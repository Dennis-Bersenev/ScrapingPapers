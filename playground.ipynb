{
 "cells": [
  {
   "cell_type": "code",
   "execution_count": 58,
   "metadata": {},
   "outputs": [],
   "source": [
    "\n",
    "from key import KEY as OPENAI_API_KEY\n",
    "from key import SS_KEY as SS_API_KEY\n",
    "from urllib.request import Request, urlopen\n",
    "\n",
    "import json\n",
    "import os\n",
    "import pickle\n",
    "import time\n",
    "import requests\n",
    "from bs4 import BeautifulSoup"
   ]
  },
  {
   "cell_type": "markdown",
   "metadata": {},
   "source": [
    "# With Semantic Scholar"
   ]
  },
  {
   "cell_type": "code",
   "execution_count": null,
   "metadata": {},
   "outputs": [],
   "source": [
    "# Directly define the API key (Reminder: Securely handle API keys in production environments)\n",
    "api_key = SS_API_KEY\n",
    "\n",
    "# Define headers with API key\n",
    "headers = {'x-api-key': api_key}"
   ]
  },
  {
   "cell_type": "code",
   "execution_count": 67,
   "metadata": {},
   "outputs": [],
   "source": [
    "def get_paper_data(paper_id):\n",
    "  url = 'https://api.semanticscholar.org/graph/v1/paper/' + paper_id\n",
    "\n",
    "  # Define which details about the paper you would like to receive in the response\n",
    "  paper_data_query_params = {'fields': 'title,isOpenAccess,openAccessPdf'}\n",
    "\n",
    "  # Send the API request and store the response in a variable\n",
    "  response = requests.get(url, params=paper_data_query_params)\n",
    "  if response.status_code == 200:\n",
    "    return response.json()\n",
    "  else:\n",
    "    return None\n",
    "\n",
    "# def download_file(url, filename):\n",
    "#     try:\n",
    "#         response = requests.get(url)\n",
    "#         response.raise_for_status()  # Check if the request was successful\n",
    "#         with open(filename, 'wb') as file:\n",
    "#             file.write(response.content)\n",
    "#         print(f\"File downloaded successfully: {filename}\")\n",
    "#     except requests.exceptions.RequestException as e:\n",
    "#         print(f\"Error occurred: {e}\")\n",
    "#         print(\"no gusto\")\n",
    "  \n",
    "\n",
    "def download_file(url, filename):\n",
    "  try:\n",
    "    response = requests.get(url=url, headers={'User-Agent': 'Mozilla/5.0'})\n",
    "\n",
    "    with open(filename, 'wb') as file:\n",
    "      file.write(response.content)\n",
    "    print(f\"File downloaded successfully: {filename}\")\n",
    "  \n",
    "  except requests.exceptions.RequestException as e:\n",
    "    print(f\"Error occurred: {e}\")\n",
    "\n",
    "\n"
   ]
  },
  {
   "cell_type": "code",
   "execution_count": 53,
   "metadata": {},
   "outputs": [
    {
     "name": "stdout",
     "output_type": "stream",
     "text": [
      "{'paperId': 'a3121921343bef1003ff22c94c0dfc9328888375', 'title': 'Mapping the evolution of T cell states during response and resistance to adoptive cellular therapy', 'isOpenAccess': True, 'openAccessPdf': {'url': 'https://www.biorxiv.org/content/biorxiv/early/2020/07/10/2020.07.08.194332.full.pdf', 'status': 'GREEN'}}\n"
     ]
    }
   ],
   "source": [
    "# Define the API endpoint URL\n",
    "url = 'https://api.semanticscholar.org/graph/v1/paper/search'\n",
    "\n",
    "# More specific query parameter\n",
    "query_params = {'query': 'Mapping the evolution of T cell states during response and resistance to adoptive cellular therapy', }\n",
    "\n",
    "# Send the API request\n",
    "search_response = requests.get(url, params=query_params, headers=headers)\n",
    "\n",
    "# Check if the request was successful (status code 200)\n",
    "if search_response.status_code == 200:\n",
    "  search_response = search_response.json()\n",
    "\n",
    "  # Retrieve the paper id corresponding to the 1st result in the list\n",
    "  paper_id = search_response['data'][0]['paperId']\n",
    "\n",
    "  # Retrieve the paper details corresponding to this paper id using the function we defined earlier.\n",
    "  paper_details = get_paper_data(paper_id)\n",
    "  print(paper_details)\n",
    "else:\n",
    "  # Handle potential errors or non-200 responses\n",
    "  print(f\"Relevance Search Request failed with status code {search_response.status_code}: {search_response.text}\")\n"
   ]
  },
  {
   "cell_type": "code",
   "execution_count": 63,
   "metadata": {},
   "outputs": [
    {
     "name": "stdout",
     "output_type": "stream",
     "text": [
      "https://www.biorxiv.org/content/biorxiv/early/2020/07/10/2020.07.08.194332.full.pdf\n"
     ]
    }
   ],
   "source": [
    "if paper_details:\n",
    "    if paper_details['isOpenAccess']:\n",
    "        pdf_url = paper_details['openAccessPdf']['url'] \n",
    "        print(pdf_url)\n"
   ]
  },
  {
   "cell_type": "code",
   "execution_count": 68,
   "metadata": {},
   "outputs": [
    {
     "name": "stdout",
     "output_type": "stream",
     "text": [
      "File downloaded successfully: test.pdf\n"
     ]
    }
   ],
   "source": [
    "download_file(pdf_url, \"test.pdf\")"
   ]
  },
  {
   "cell_type": "markdown",
   "metadata": {},
   "source": [
    "# With SciHub (blocks scraping btw)"
   ]
  },
  {
   "cell_type": "code",
   "execution_count": 2,
   "metadata": {},
   "outputs": [
    {
     "data": {
      "text/plain": [
       "<Response [200]>"
      ]
     },
     "execution_count": 2,
     "metadata": {},
     "output_type": "execute_result"
    }
   ],
   "source": [
    "url = \"https://sci-hub.se/10.1186/s13059-017-1382-0\"\n",
    "page = requests.get(url)\n",
    "page"
   ]
  },
  {
   "cell_type": "code",
   "execution_count": 3,
   "metadata": {},
   "outputs": [
    {
     "data": {
      "text/plain": [
       "<!DOCTYPE html>\n",
       "<html>\n",
       "<head>\n",
       "<title>Sci-Hub | SCANPY: large-scale single-cell gene expression data analysis. Genome Biology, 19(1) | 10.1186/s13059-017-1382-0</title>\n",
       "<meta charset=\"utf-8\"/>\n",
       "<meta content=\"width=device-width\" name=\"viewport\"/>\n",
       "<script src=\"/scripts/jquery-3.6.0.min.js\"></script>\n",
       "</head>\n",
       "<body>\n",
       "<script type=\"text/javascript\">\n",
       "        \n",
       "        var menu;\n",
       "        var article;\n",
       "        var position;\n",
       "        function rollupi()\n",
       "        {\n",
       "            position = position - 2;\n",
       "            menu.style.left = position.toString() + 'vw';\n",
       "            article.style.left = (position + 20).toString() + 'vw';\n",
       "            article.style.width = (80 - position).toString() + 'vw';\n",
       "            if (position > -20)\n",
       "                setTimeout(rollupi, 33);\n",
       "            else\n",
       "                document.getElementById('rollback').style.display = 'block';\n",
       "        }\n",
       "        function rollup()\n",
       "        {\n",
       "            $.get(\"//sci-hub.se/rollup/on?rand=\" + (Math.random() + 1).toString(36).substring(7));\n",
       "            menu = document.getElementById('minu');\n",
       "            article = document.getElementById('article');\n",
       "            position = 0;\n",
       "            rollupi();\n",
       "        }\n",
       "        function rollbacki()\n",
       "        {\n",
       "            position = position + 2;\n",
       "            menu.style.left = position.toString() + 'vw';\n",
       "            article.style.left = (position + 20).toString() + 'vw';\n",
       "            article.style.width = (80 - position).toString() + 'vw';\n",
       "            if (position < 0)\n",
       "                setTimeout(rollbacki, 33);\n",
       "        }\n",
       "        function rollback()\n",
       "        {\n",
       "            $.get(\"//sci-hub.se/rollup/off?rand=\" + (Math.random() + 1).toString(36).substring(7));\n",
       "            menu = document.getElementById('minu');\n",
       "            article = document.getElementById('article');\n",
       "            document.getElementById('rollback').style.display = 'none';\n",
       "            document.getElementById('roll').style.display = 'block';\n",
       "            position = -20;\n",
       "            rollbacki();\n",
       "        }\n",
       "        function rollshow()\n",
       "        {\n",
       "            document.getElementById('roll').style.display = 'block';\n",
       "        }\n",
       "        \n",
       "        function clip(element)\n",
       "        {\n",
       "          var $temp = $(\"<input>\");\n",
       "          $(\"body\").append($temp);\n",
       "          $temp.val($(element).text()).select();\n",
       "          document.execCommand(\"copy\");\n",
       "          $temp.remove();\n",
       "        }\n",
       "        \n",
       "        $(document).ready(function()\n",
       "        {\n",
       "            setTimeout(rollshow, 1000);\n",
       "            \n",
       "            logoi = document.getElementById(\"logo\");\n",
       "            rolli = document.getElementById(\"rollimg\");\n",
       "        });\n",
       "        \n",
       "    </script>\n",
       "<style type=\"text/css\">\n",
       "\n",
       "html, body {height: 100vh; width:100vw; margin: 0; padding: 0; overflow:hidden}\n",
       "div {font-family: -apple-system,BlinkMacSystemFont,Roboto,Helvetica Neue,sans-serif}\n",
       "\n",
       "#minu {width: min(19.9vw, 380px);\n",
       "       height: 100vh;\n",
       "       position: absolute;\n",
       "       z-index: 1;\n",
       "       top: 0;\n",
       "       background-color: white;\n",
       "       border-right: solid 0.1vw #dfdfdf;\n",
       "       overflow: hidden}\n",
       "\n",
       "#roll {display: none;\n",
       "       position:absolute;\n",
       "       z-index: 2;\n",
       "       top: 40vh;\n",
       "       left: min(17vw, 310px);\n",
       "       width: min(4vw, 64px); height: min(4vw, 64px);\n",
       "       border: solid 1vw #dfdfdf;\n",
       "       border-radius: min(4vw, 64px);\n",
       "       color: #999;\n",
       "       font-size: min(3vw, 55px);\n",
       "       line-height: min(3vw, 55px);\n",
       "       cursor: pointer;\n",
       "       background: #dfdfdf}\n",
       "\n",
       "#roll:hover {background: #d3d3d3;\n",
       "             border-color:#d3d3d3}\n",
       "\n",
       "#rollback{position: absolute;\n",
       "          top: 40vh;\n",
       "          left: 0;\n",
       "          background: none;\n",
       "          z-index: 4;\n",
       "          cursor: pointer;\n",
       "          width: 96px;\n",
       "          min-width: 64px;\n",
       "          max-width: 6vw}\n",
       "\n",
       "#rollback img { width: 100% }\n",
       "\n",
       "#article {height: 100vh;\n",
       "          position: absolute;\n",
       "          z-index: 3;\n",
       "          right: 0;\n",
       "          top: 0;}\n",
       "\n",
       "embed {width:100%;\n",
       "       height:100%}\n",
       "\n",
       "#header {display:block}\n",
       "\n",
       "#header div {display: inline-block;\n",
       "             vertical-align: middle;\n",
       "             text-align: center}\n",
       "\n",
       "#header div:nth-of-type(1) {width: min(10vw, 160px); margin-left: min(1.2vw, 12px)}\n",
       "#header div:nth-of-type(2) {width: min(8vw, 180px); margin-top: 1vw}\n",
       "\n",
       "#logo {min-width: 96px;\n",
       "       max-width: 128px;\n",
       "       width: 100%;\n",
       "       height: auto}\n",
       "\n",
       "#sci {color: darkred;\n",
       "      font-size: min(3vw, 48px);\n",
       "      font-family: monospace}\n",
       "\n",
       "#sci .u {border-bottom: min(0.17vw, 4px) solid darkred;\n",
       "        padding-bottom: 0.1vw}\n",
       "\n",
       "#motto {padding-top: 1vw;\n",
       "        color: #999;\n",
       "        font-size: min(1vw, 22px);\n",
       "        font-family: monospace}\n",
       "\n",
       "#minu #buttons {width: 100%;\n",
       "                margin-top: 6vh}\n",
       "\n",
       "#buttons button {margin-left: min(2vw, 24px);\n",
       "                cursor: pointer;\n",
       "                color: #999;\n",
       "                font-family: monospace;\n",
       "                font-size: min(1.22vw, 24px);\n",
       "                background: white;\n",
       "                border-radius: min(0.4vw, 8px);\n",
       "                border: solid min(0.1vw, 2px) #999;\n",
       "                padding: 0.8vh 0.4vw 0.8vh 0.4vw}\n",
       "\n",
       "#buttons button:hover { background: #efefef }\n",
       "\n",
       "#citation {margin: 3vh 2vw 0 min(2vw, 24px);\n",
       "           font-size: min(1vw, 18px);\n",
       "           font-family: monospace;\n",
       "           cursor: pointer}\n",
       "\n",
       "#citation:active {color:#aaa}\n",
       "#citation a {color:#999;text-decoration:none}\n",
       "#citation a:hover {text-decoration:underline}\n",
       "\n",
       "#doi {margin: 3vh 2vw 0 min(2vw, 16px); font-size: min(1.22vw, 24px); color:#aaa}\n",
       "#doi a {color: #aaa; text-decoration: none; word-wrap: break-all; word-break: break-all}\n",
       "#doi a:hover {background: #eee}\n",
       "\n",
       "#versions {margin: 3vh 0 0 2vw; font-size: 1vw; color:#aaa}\n",
       "#versions a {color: black; text-decoration: none}\n",
       "#versions a:hover {text-decoration: underline}\n",
       "\n",
       "</style>\n",
       "<style type=\"text/css\">\n",
       "        \n",
       "        #minu { left: 0 }\n",
       "        #rollback { display: none }\n",
       "        #article { width: ((articleWidth)); left: min(19.9vw, 380px) }\n",
       "        \n",
       "        \n",
       "        #btc { }\n",
       "        #btc p { text-align: center}\n",
       "        #btc p:nth-of-type(1) { margin: 7vh 0 0 0; font-size: 1.33vw; font-family:sans }\n",
       "        #btc p:nth-of-type(1) span { background: white; color: black }\n",
       "        #btc p:nth-of-type(2) { margin: 0 0 0 0; padding: 0; font-size: 1vw; font-family:sans }\n",
       "        #btc p:nth-of-type(2) span { background: white; color: white }\n",
       "        #btc p:nth-of-type(3) { }\n",
       "        #btc p:nth-of-type(3) img { max-width: 55% };\n",
       "        \n",
       "        \n",
       "        \n",
       "    </style>\n",
       "<div id=\"roll\" onclick=\"rollup()\">◂</div>\n",
       "<div id=\"rollback\" onclick=\"rollback()\">\n",
       "<img id=\"rollimg\" src=\"/pictures/ravenround.gif\"/>\n",
       "</div>\n",
       "<div id=\"minu\">\n",
       "<a href=\"//sci-hub.se/\" id=\"header\">\n",
       "<div>\n",
       "<img id=\"logo\" src=\"/pictures/ravenround.gif\"/>\n",
       "</div>\n",
       "<div>\n",
       "<span id=\"sci\"><span class=\"u\">sci</span><br/>hub</span><br/>\n",
       "<span id=\"motto\">to open science</span>\n",
       "</div>\n",
       "</a>\n",
       "<div id=\"buttons\">\n",
       "<button onclick=\"location.href='//zero.sci-hub.se/6995/9787dd0467a71f85a7f6dfcb2bdd1941/wolf2018.pdf?download=true'\">↓ save</button>\n",
       "</div>\n",
       "<div id=\"btc\">\n",
       "</div>\n",
       "<div id=\"citation\" onclick=\"clip(this)\">Wolf, F. A., Angerer, P., &amp; Theis, F. J. (2018). <i>SCANPY: large-scale single-cell gene expression data analysis. Genome Biology, 19(1).</i> doi:10.1186/s13059-017-1382-0 </div>\n",
       "<div id=\"doi\">\n",
       "            10.1186/s13059-017-1382-0\n",
       "        </div>\n",
       "<div id=\"versions\">\n",
       "</div>\n",
       "</div>\n",
       "<div id=\"article\">\n",
       "<embed id=\"pdf\" src=\"//zero.sci-hub.se/6995/9787dd0467a71f85a7f6dfcb2bdd1941/wolf2018.pdf#navpanes=0&amp;view=FitH\" type=\"application/pdf\"/>\n",
       "</div>\n",
       "</body>\n",
       "</html>"
      ]
     },
     "execution_count": 3,
     "metadata": {},
     "output_type": "execute_result"
    }
   ],
   "source": [
    "contents = BeautifulSoup(page.text, 'html')\n",
    "contents"
   ]
  },
  {
   "cell_type": "code",
   "execution_count": 24,
   "metadata": {},
   "outputs": [
    {
     "data": {
      "text/plain": [
       "{'type': 'application/pdf',\n",
       " 'src': '//zero.sci-hub.se/6995/9787dd0467a71f85a7f6dfcb2bdd1941/wolf2018.pdf#navpanes=0&view=FitH',\n",
       " 'id': 'pdf'}"
      ]
     },
     "execution_count": 24,
     "metadata": {},
     "output_type": "execute_result"
    }
   ],
   "source": [
    "pdf_tag = contents.find('embed', id=\"pdf\")\n",
    "pdf_tag.attrs"
   ]
  },
  {
   "cell_type": "code",
   "execution_count": null,
   "metadata": {},
   "outputs": [],
   "source": []
  },
  {
   "cell_type": "code",
   "execution_count": null,
   "metadata": {},
   "outputs": [],
   "source": [
    "# wget -O filename.pdf zero.sci-hub.se/6995/9787dd0467a71f85a7f6dfcb2bdd1941/wolf2018.pdf"
   ]
  }
 ],
 "metadata": {
  "kernelspec": {
   "display_name": "env",
   "language": "python",
   "name": "python3"
  },
  "language_info": {
   "codemirror_mode": {
    "name": "ipython",
    "version": 3
   },
   "file_extension": ".py",
   "mimetype": "text/x-python",
   "name": "python",
   "nbconvert_exporter": "python",
   "pygments_lexer": "ipython3",
   "version": "3.10.12"
  }
 },
 "nbformat": 4,
 "nbformat_minor": 2
}
