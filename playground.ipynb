{
 "cells": [
  {
   "cell_type": "code",
   "execution_count": 58,
   "metadata": {},
   "outputs": [],
   "source": [
    "\n",
    "from key import KEY as OPENAI_API_KEY\n",
    "from key import SS_KEY as SS_API_KEY\n",
    "from urllib.request import Request, urlopen\n",
    "\n",
    "import json\n",
    "import os\n",
    "import pickle\n",
    "import time\n",
    "import requests\n",
    "from bs4 import BeautifulSoup"
   ]
  },
  {
   "cell_type": "markdown",
   "metadata": {},
   "source": [
    "# With Semantic Scholar"
   ]
  },
  {
   "cell_type": "code",
   "execution_count": null,
   "metadata": {},
   "outputs": [],
   "source": [
    "# Directly define the API key (Reminder: Securely handle API keys in production environments)\n",
    "api_key = SS_API_KEY\n",
    "\n",
    "# Define headers with API key\n",
    "headers = {'x-api-key': api_key}"
   ]
  },
  {
   "cell_type": "code",
   "execution_count": 67,
   "metadata": {},
   "outputs": [],
   "source": [
    "def get_paper_data(paper_id):\n",
    "  url = 'https://api.semanticscholar.org/graph/v1/paper/' + paper_id\n",
    "\n",
    "  # Define which details about the paper you would like to receive in the response\n",
    "  paper_data_query_params = {'fields': 'title,isOpenAccess,openAccessPdf'}\n",
    "\n",
    "  # Send the API request and store the response in a variable\n",
    "  response = requests.get(url, params=paper_data_query_params)\n",
    "  if response.status_code == 200:\n",
    "    return response.json()\n",
    "  else:\n",
    "    return None\n",
    "\n",
    "def download_file(url, filename):\n",
    "  try:\n",
    "    response = requests.get(url=url, headers={'User-Agent': 'Mozilla/5.0'})\n",
    "\n",
    "    with open(filename, 'wb') as file:\n",
    "      file.write(response.content)\n",
    "    print(f\"File downloaded successfully: {filename}\")\n",
    "  \n",
    "  except requests.exceptions.RequestException as e:\n",
    "    print(f\"Error occurred: {e}\")\n",
    "\n",
    "\n"
   ]
  },
  {
   "cell_type": "code",
   "execution_count": 53,
   "metadata": {},
   "outputs": [
    {
     "name": "stdout",
     "output_type": "stream",
     "text": [
      "{'paperId': 'a3121921343bef1003ff22c94c0dfc9328888375', 'title': 'Mapping the evolution of T cell states during response and resistance to adoptive cellular therapy', 'isOpenAccess': True, 'openAccessPdf': {'url': 'https://www.biorxiv.org/content/biorxiv/early/2020/07/10/2020.07.08.194332.full.pdf', 'status': 'GREEN'}}\n"
     ]
    }
   ],
   "source": [
    "# Define the API endpoint URL\n",
    "url = 'https://api.semanticscholar.org/graph/v1/paper/search'\n",
    "\n",
    "# More specific query parameter\n",
    "query_params = {'query': 'Mapping the evolution of T cell states during response and resistance to adoptive cellular therapy', }\n",
    "\n",
    "# Send the API request\n",
    "search_response = requests.get(url, params=query_params, headers=headers)\n",
    "\n",
    "# Check if the request was successful (status code 200)\n",
    "if search_response.status_code == 200:\n",
    "  search_response = search_response.json()\n",
    "\n",
    "  # Retrieve the paper id corresponding to the 1st result in the list\n",
    "  paper_id = search_response['data'][0]['paperId']\n",
    "\n",
    "  # Retrieve the paper details corresponding to this paper id using the function we defined earlier.\n",
    "  paper_details = get_paper_data(paper_id)\n",
    "  print(paper_details)\n",
    "else:\n",
    "  # Handle potential errors or non-200 responses\n",
    "  print(f\"Relevance Search Request failed with status code {search_response.status_code}: {search_response.text}\")\n"
   ]
  },
  {
   "cell_type": "code",
   "execution_count": 63,
   "metadata": {},
   "outputs": [
    {
     "name": "stdout",
     "output_type": "stream",
     "text": [
      "https://www.biorxiv.org/content/biorxiv/early/2020/07/10/2020.07.08.194332.full.pdf\n"
     ]
    }
   ],
   "source": [
    "if paper_details:\n",
    "    if paper_details['isOpenAccess']:\n",
    "        pdf_url = paper_details['openAccessPdf']['url'] \n",
    "        print(pdf_url)\n"
   ]
  },
  {
   "cell_type": "code",
   "execution_count": 68,
   "metadata": {},
   "outputs": [
    {
     "name": "stdout",
     "output_type": "stream",
     "text": [
      "File downloaded successfully: test.pdf\n"
     ]
    }
   ],
   "source": [
    "download_file(pdf_url, \"test.pdf\")"
   ]
  }
 ],
 "metadata": {
  "kernelspec": {
   "display_name": "env",
   "language": "python",
   "name": "python3"
  },
  "language_info": {
   "codemirror_mode": {
    "name": "ipython",
    "version": 3
   },
   "file_extension": ".py",
   "mimetype": "text/x-python",
   "name": "python",
   "nbconvert_exporter": "python",
   "pygments_lexer": "ipython3",
   "version": "3.10.12"
  }
 },
 "nbformat": 4,
 "nbformat_minor": 2
}
